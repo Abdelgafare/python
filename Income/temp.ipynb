## packages
import numpy as np 
import pandas as pd
import seaborn as sns
###
df=pd.read_csv('C:\\Users\\pc\\Desktop\\Income\\Videodata.csv')
print(df.head(10))
print(df.info())
print(df.shape)
print(df.describe())
print(df.isna().sum())
print(df.duplicated().sum())
df.drop_duplicates(inplace=True)
print(df.duplicated().sum())

