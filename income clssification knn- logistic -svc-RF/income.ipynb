{
 "cells": [
  {
   "cell_type": "code",
   "execution_count": 1,
   "id": "initial_id",
   "metadata": {
    "ExecuteTime": {
     "end_time": "2024-04-27T17:09:04.253079Z",
     "start_time": "2024-04-27T17:09:03.648486Z"
    },
    "collapsed": true,
    "jupyter": {
     "outputs_hidden": true
    }
   },
   "outputs": [],
   "source": [
    "# packages\n",
    "import pandas as pd\n",
    "import numpy as np\n",
    "import matplotlib.pyplot as plt\n",
    "import seaborn as sns\n",
    "import statsmodels.api as sm\n",
    "import statsmodels.formula.api as smf\n",
    "import sklearn.linear_model as lm\n"
   ]
  },
  {
   "cell_type": "markdown",
   "id": "60c852ba48ccd38e",
   "metadata": {},
   "source": [
    "# EDA"
   ]
  },
  {
   "cell_type": "code",
   "execution_count": 2,
   "id": "924f9824dab393a0",
   "metadata": {
    "ExecuteTime": {
     "end_time": "2024-04-27T17:09:04.312820Z",
     "start_time": "2024-04-27T17:09:04.254615Z"
    }
   },
   "outputs": [],
   "source": [
    "df=pd.read_csv('C:\\\\Users\\\\pc\\\\Desktop\\\\Income\\\\Videodata.csv')"
   ]
  },
  {
   "cell_type": "code",
   "execution_count": 3,
   "id": "bca7b20ffd1493a6",
   "metadata": {
    "ExecuteTime": {
     "end_time": "2024-04-27T17:09:04.329767Z",
     "start_time": "2024-04-27T17:09:04.313833Z"
    }
   },
   "outputs": [
    {
     "data": {
      "text/html": [
       "<div>\n",
       "<style scoped>\n",
       "    .dataframe tbody tr th:only-of-type {\n",
       "        vertical-align: middle;\n",
       "    }\n",
       "\n",
       "    .dataframe tbody tr th {\n",
       "        vertical-align: top;\n",
       "    }\n",
       "\n",
       "    .dataframe thead th {\n",
       "        text-align: right;\n",
       "    }\n",
       "</style>\n",
       "<table border=\"1\" class=\"dataframe\">\n",
       "  <thead>\n",
       "    <tr style=\"text-align: right;\">\n",
       "      <th></th>\n",
       "      <th>age</th>\n",
       "      <th>workclass</th>\n",
       "      <th>fnlwgt</th>\n",
       "      <th>education</th>\n",
       "      <th>education-num</th>\n",
       "      <th>marital-status</th>\n",
       "      <th>occupation</th>\n",
       "      <th>relationship</th>\n",
       "      <th>race</th>\n",
       "      <th>sex</th>\n",
       "      <th>capital-gain</th>\n",
       "      <th>capital-loss</th>\n",
       "      <th>hours-per-week</th>\n",
       "      <th>native-country</th>\n",
       "      <th>income</th>\n",
       "    </tr>\n",
       "  </thead>\n",
       "  <tbody>\n",
       "    <tr>\n",
       "      <th>0</th>\n",
       "      <td>39</td>\n",
       "      <td>State-gov</td>\n",
       "      <td>77516</td>\n",
       "      <td>Bachelors</td>\n",
       "      <td>13</td>\n",
       "      <td>Never-married</td>\n",
       "      <td>Adm-clerical</td>\n",
       "      <td>Not-in-family</td>\n",
       "      <td>White</td>\n",
       "      <td>Male</td>\n",
       "      <td>2174</td>\n",
       "      <td>0</td>\n",
       "      <td>40</td>\n",
       "      <td>United-States</td>\n",
       "      <td>&lt;=50K</td>\n",
       "    </tr>\n",
       "    <tr>\n",
       "      <th>1</th>\n",
       "      <td>50</td>\n",
       "      <td>Self-emp-not-inc</td>\n",
       "      <td>83311</td>\n",
       "      <td>Bachelors</td>\n",
       "      <td>13</td>\n",
       "      <td>Married-civ-spouse</td>\n",
       "      <td>Exec-managerial</td>\n",
       "      <td>Husband</td>\n",
       "      <td>White</td>\n",
       "      <td>Male</td>\n",
       "      <td>0</td>\n",
       "      <td>0</td>\n",
       "      <td>13</td>\n",
       "      <td>United-States</td>\n",
       "      <td>&lt;=50K</td>\n",
       "    </tr>\n",
       "    <tr>\n",
       "      <th>2</th>\n",
       "      <td>38</td>\n",
       "      <td>Private</td>\n",
       "      <td>215646</td>\n",
       "      <td>HS-grad</td>\n",
       "      <td>9</td>\n",
       "      <td>Divorced</td>\n",
       "      <td>Handlers-cleaners</td>\n",
       "      <td>Not-in-family</td>\n",
       "      <td>White</td>\n",
       "      <td>Male</td>\n",
       "      <td>0</td>\n",
       "      <td>0</td>\n",
       "      <td>40</td>\n",
       "      <td>United-States</td>\n",
       "      <td>&lt;=50K</td>\n",
       "    </tr>\n",
       "    <tr>\n",
       "      <th>3</th>\n",
       "      <td>53</td>\n",
       "      <td>Private</td>\n",
       "      <td>234721</td>\n",
       "      <td>11th</td>\n",
       "      <td>7</td>\n",
       "      <td>Married-civ-spouse</td>\n",
       "      <td>Handlers-cleaners</td>\n",
       "      <td>Husband</td>\n",
       "      <td>Black</td>\n",
       "      <td>Male</td>\n",
       "      <td>0</td>\n",
       "      <td>0</td>\n",
       "      <td>40</td>\n",
       "      <td>United-States</td>\n",
       "      <td>&lt;=50K</td>\n",
       "    </tr>\n",
       "    <tr>\n",
       "      <th>4</th>\n",
       "      <td>28</td>\n",
       "      <td>Private</td>\n",
       "      <td>338409</td>\n",
       "      <td>Bachelors</td>\n",
       "      <td>13</td>\n",
       "      <td>Married-civ-spouse</td>\n",
       "      <td>Prof-specialty</td>\n",
       "      <td>Wife</td>\n",
       "      <td>Black</td>\n",
       "      <td>Female</td>\n",
       "      <td>0</td>\n",
       "      <td>0</td>\n",
       "      <td>40</td>\n",
       "      <td>Cuba</td>\n",
       "      <td>&lt;=50K</td>\n",
       "    </tr>\n",
       "    <tr>\n",
       "      <th>5</th>\n",
       "      <td>37</td>\n",
       "      <td>Private</td>\n",
       "      <td>284582</td>\n",
       "      <td>Masters</td>\n",
       "      <td>14</td>\n",
       "      <td>Married-civ-spouse</td>\n",
       "      <td>Exec-managerial</td>\n",
       "      <td>Wife</td>\n",
       "      <td>White</td>\n",
       "      <td>Female</td>\n",
       "      <td>0</td>\n",
       "      <td>0</td>\n",
       "      <td>40</td>\n",
       "      <td>United-States</td>\n",
       "      <td>&lt;=50K</td>\n",
       "    </tr>\n",
       "    <tr>\n",
       "      <th>6</th>\n",
       "      <td>49</td>\n",
       "      <td>Private</td>\n",
       "      <td>160187</td>\n",
       "      <td>9th</td>\n",
       "      <td>5</td>\n",
       "      <td>Married-spouse-absent</td>\n",
       "      <td>Other-service</td>\n",
       "      <td>Not-in-family</td>\n",
       "      <td>Black</td>\n",
       "      <td>Female</td>\n",
       "      <td>0</td>\n",
       "      <td>0</td>\n",
       "      <td>16</td>\n",
       "      <td>Jamaica</td>\n",
       "      <td>&lt;=50K</td>\n",
       "    </tr>\n",
       "    <tr>\n",
       "      <th>7</th>\n",
       "      <td>52</td>\n",
       "      <td>Self-emp-not-inc</td>\n",
       "      <td>209642</td>\n",
       "      <td>HS-grad</td>\n",
       "      <td>9</td>\n",
       "      <td>Married-civ-spouse</td>\n",
       "      <td>Exec-managerial</td>\n",
       "      <td>Husband</td>\n",
       "      <td>White</td>\n",
       "      <td>Male</td>\n",
       "      <td>0</td>\n",
       "      <td>0</td>\n",
       "      <td>45</td>\n",
       "      <td>United-States</td>\n",
       "      <td>&gt;50K</td>\n",
       "    </tr>\n",
       "    <tr>\n",
       "      <th>8</th>\n",
       "      <td>31</td>\n",
       "      <td>Private</td>\n",
       "      <td>45781</td>\n",
       "      <td>Masters</td>\n",
       "      <td>14</td>\n",
       "      <td>Never-married</td>\n",
       "      <td>Prof-specialty</td>\n",
       "      <td>Not-in-family</td>\n",
       "      <td>White</td>\n",
       "      <td>Female</td>\n",
       "      <td>14084</td>\n",
       "      <td>0</td>\n",
       "      <td>50</td>\n",
       "      <td>United-States</td>\n",
       "      <td>&gt;50K</td>\n",
       "    </tr>\n",
       "    <tr>\n",
       "      <th>9</th>\n",
       "      <td>42</td>\n",
       "      <td>Private</td>\n",
       "      <td>159449</td>\n",
       "      <td>Bachelors</td>\n",
       "      <td>13</td>\n",
       "      <td>Married-civ-spouse</td>\n",
       "      <td>Exec-managerial</td>\n",
       "      <td>Husband</td>\n",
       "      <td>White</td>\n",
       "      <td>Male</td>\n",
       "      <td>5178</td>\n",
       "      <td>0</td>\n",
       "      <td>40</td>\n",
       "      <td>United-States</td>\n",
       "      <td>&gt;50K</td>\n",
       "    </tr>\n",
       "  </tbody>\n",
       "</table>\n",
       "</div>"
      ],
      "text/plain": [
       "   age          workclass   fnlwgt   education   education-num  \\\n",
       "0   39          State-gov    77516   Bachelors              13   \n",
       "1   50   Self-emp-not-inc    83311   Bachelors              13   \n",
       "2   38            Private   215646     HS-grad               9   \n",
       "3   53            Private   234721        11th               7   \n",
       "4   28            Private   338409   Bachelors              13   \n",
       "5   37            Private   284582     Masters              14   \n",
       "6   49            Private   160187         9th               5   \n",
       "7   52   Self-emp-not-inc   209642     HS-grad               9   \n",
       "8   31            Private    45781     Masters              14   \n",
       "9   42            Private   159449   Bachelors              13   \n",
       "\n",
       "           marital-status          occupation    relationship    race  \\\n",
       "0           Never-married        Adm-clerical   Not-in-family   White   \n",
       "1      Married-civ-spouse     Exec-managerial         Husband   White   \n",
       "2                Divorced   Handlers-cleaners   Not-in-family   White   \n",
       "3      Married-civ-spouse   Handlers-cleaners         Husband   Black   \n",
       "4      Married-civ-spouse      Prof-specialty            Wife   Black   \n",
       "5      Married-civ-spouse     Exec-managerial            Wife   White   \n",
       "6   Married-spouse-absent       Other-service   Not-in-family   Black   \n",
       "7      Married-civ-spouse     Exec-managerial         Husband   White   \n",
       "8           Never-married      Prof-specialty   Not-in-family   White   \n",
       "9      Married-civ-spouse     Exec-managerial         Husband   White   \n",
       "\n",
       "       sex   capital-gain   capital-loss   hours-per-week  native-country  \\\n",
       "0     Male           2174              0               40   United-States   \n",
       "1     Male              0              0               13   United-States   \n",
       "2     Male              0              0               40   United-States   \n",
       "3     Male              0              0               40   United-States   \n",
       "4   Female              0              0               40            Cuba   \n",
       "5   Female              0              0               40   United-States   \n",
       "6   Female              0              0               16         Jamaica   \n",
       "7     Male              0              0               45   United-States   \n",
       "8   Female          14084              0               50   United-States   \n",
       "9     Male           5178              0               40   United-States   \n",
       "\n",
       "   income  \n",
       "0   <=50K  \n",
       "1   <=50K  \n",
       "2   <=50K  \n",
       "3   <=50K  \n",
       "4   <=50K  \n",
       "5   <=50K  \n",
       "6   <=50K  \n",
       "7    >50K  \n",
       "8    >50K  \n",
       "9    >50K  "
      ]
     },
     "execution_count": 3,
     "metadata": {},
     "output_type": "execute_result"
    }
   ],
   "source": [
    "df.head(10)"
   ]
  },
  {
   "cell_type": "code",
   "execution_count": 4,
   "id": "e9ce7b513a48a270",
   "metadata": {
    "ExecuteTime": {
     "end_time": "2024-04-27T17:09:04.335445Z",
     "start_time": "2024-04-27T17:09:04.331344Z"
    }
   },
   "outputs": [
    {
     "data": {
      "text/plain": [
       "Index(['age', ' workclass', ' fnlwgt', ' education', ' education-num',\n",
       "       ' marital-status', ' occupation', ' relationship', ' race', ' sex',\n",
       "       ' capital-gain', ' capital-loss', ' hours-per-week', ' native-country',\n",
       "       ' income'],\n",
       "      dtype='object')"
      ]
     },
     "execution_count": 4,
     "metadata": {},
     "output_type": "execute_result"
    }
   ],
   "source": [
    "df.columns"
   ]
  },
  {
   "cell_type": "code",
   "execution_count": 5,
   "id": "5cd4ad53e3d4fc6d",
   "metadata": {
    "ExecuteTime": {
     "end_time": "2024-04-27T17:09:04.355084Z",
     "start_time": "2024-04-27T17:09:04.336468Z"
    }
   },
   "outputs": [
    {
     "data": {
      "text/plain": [
       "age                0\n",
       " workclass         0\n",
       " fnlwgt            0\n",
       " education         0\n",
       " education-num     0\n",
       " marital-status    0\n",
       " occupation        0\n",
       " relationship      0\n",
       " race              0\n",
       " sex               0\n",
       " capital-gain      0\n",
       " capital-loss      0\n",
       " hours-per-week    0\n",
       " native-country    0\n",
       " income            0\n",
       "dtype: int64"
      ]
     },
     "execution_count": 5,
     "metadata": {},
     "output_type": "execute_result"
    }
   ],
   "source": [
    "df.isnull().sum()"
   ]
  },
  {
   "cell_type": "code",
   "execution_count": 6,
   "id": "69f89144ed55befa",
   "metadata": {
    "ExecuteTime": {
     "end_time": "2024-04-27T17:09:04.381804Z",
     "start_time": "2024-04-27T17:09:04.356104Z"
    }
   },
   "outputs": [
    {
     "data": {
      "text/plain": [
       "24"
      ]
     },
     "execution_count": 6,
     "metadata": {},
     "output_type": "execute_result"
    }
   ],
   "source": [
    "df.duplicated().sum()"
   ]
  },
  {
   "cell_type": "code",
   "execution_count": 7,
   "id": "6bc5daf69208d8a5",
   "metadata": {
    "ExecuteTime": {
     "end_time": "2024-04-27T17:09:04.411056Z",
     "start_time": "2024-04-27T17:09:04.382921Z"
    }
   },
   "outputs": [],
   "source": [
    "df.drop_duplicates(inplace=True)"
   ]
  },
  {
   "cell_type": "code",
   "execution_count": 8,
   "id": "85773c22d9edc30a",
   "metadata": {
    "ExecuteTime": {
     "end_time": "2024-04-27T17:09:04.433118Z",
     "start_time": "2024-04-27T17:09:04.412077Z"
    }
   },
   "outputs": [
    {
     "name": "stdout",
     "output_type": "stream",
     "text": [
      "<class 'pandas.core.frame.DataFrame'>\n",
      "Index: 32537 entries, 0 to 32560\n",
      "Data columns (total 15 columns):\n",
      " #   Column           Non-Null Count  Dtype \n",
      "---  ------           --------------  ----- \n",
      " 0   age              32537 non-null  int64 \n",
      " 1    workclass       32537 non-null  object\n",
      " 2    fnlwgt          32537 non-null  int64 \n",
      " 3    education       32537 non-null  object\n",
      " 4    education-num   32537 non-null  int64 \n",
      " 5    marital-status  32537 non-null  object\n",
      " 6    occupation      32537 non-null  object\n",
      " 7    relationship    32537 non-null  object\n",
      " 8    race            32537 non-null  object\n",
      " 9    sex             32537 non-null  object\n",
      " 10   capital-gain    32537 non-null  int64 \n",
      " 11   capital-loss    32537 non-null  int64 \n",
      " 12   hours-per-week  32537 non-null  int64 \n",
      " 13   native-country  32537 non-null  object\n",
      " 14   income          32537 non-null  object\n",
      "dtypes: int64(6), object(9)\n",
      "memory usage: 4.0+ MB\n"
     ]
    },
    {
     "data": {
      "text/plain": [
       "(32537, 15)"
      ]
     },
     "execution_count": 8,
     "metadata": {},
     "output_type": "execute_result"
    }
   ],
   "source": [
    "df.info()\n",
    "df.shape"
   ]
  },
  {
   "cell_type": "code",
   "execution_count": 9,
   "id": "ae715f66fddfa1ed",
   "metadata": {
    "ExecuteTime": {
     "end_time": "2024-04-27T17:09:04.454659Z",
     "start_time": "2024-04-27T17:09:04.434153Z"
    }
   },
   "outputs": [
    {
     "data": {
      "text/html": [
       "<div>\n",
       "<style scoped>\n",
       "    .dataframe tbody tr th:only-of-type {\n",
       "        vertical-align: middle;\n",
       "    }\n",
       "\n",
       "    .dataframe tbody tr th {\n",
       "        vertical-align: top;\n",
       "    }\n",
       "\n",
       "    .dataframe thead th {\n",
       "        text-align: right;\n",
       "    }\n",
       "</style>\n",
       "<table border=\"1\" class=\"dataframe\">\n",
       "  <thead>\n",
       "    <tr style=\"text-align: right;\">\n",
       "      <th></th>\n",
       "      <th>age</th>\n",
       "      <th>fnlwgt</th>\n",
       "      <th>education-num</th>\n",
       "      <th>capital-gain</th>\n",
       "      <th>capital-loss</th>\n",
       "      <th>hours-per-week</th>\n",
       "    </tr>\n",
       "  </thead>\n",
       "  <tbody>\n",
       "    <tr>\n",
       "      <th>count</th>\n",
       "      <td>32537.000000</td>\n",
       "      <td>3.253700e+04</td>\n",
       "      <td>32537.000000</td>\n",
       "      <td>32537.000000</td>\n",
       "      <td>32537.000000</td>\n",
       "      <td>32537.000000</td>\n",
       "    </tr>\n",
       "    <tr>\n",
       "      <th>mean</th>\n",
       "      <td>38.585549</td>\n",
       "      <td>1.897808e+05</td>\n",
       "      <td>10.081815</td>\n",
       "      <td>1078.443741</td>\n",
       "      <td>87.368227</td>\n",
       "      <td>40.440329</td>\n",
       "    </tr>\n",
       "    <tr>\n",
       "      <th>std</th>\n",
       "      <td>13.637984</td>\n",
       "      <td>1.055565e+05</td>\n",
       "      <td>2.571633</td>\n",
       "      <td>7387.957424</td>\n",
       "      <td>403.101833</td>\n",
       "      <td>12.346889</td>\n",
       "    </tr>\n",
       "    <tr>\n",
       "      <th>min</th>\n",
       "      <td>17.000000</td>\n",
       "      <td>1.228500e+04</td>\n",
       "      <td>1.000000</td>\n",
       "      <td>0.000000</td>\n",
       "      <td>0.000000</td>\n",
       "      <td>1.000000</td>\n",
       "    </tr>\n",
       "    <tr>\n",
       "      <th>25%</th>\n",
       "      <td>28.000000</td>\n",
       "      <td>1.178270e+05</td>\n",
       "      <td>9.000000</td>\n",
       "      <td>0.000000</td>\n",
       "      <td>0.000000</td>\n",
       "      <td>40.000000</td>\n",
       "    </tr>\n",
       "    <tr>\n",
       "      <th>50%</th>\n",
       "      <td>37.000000</td>\n",
       "      <td>1.783560e+05</td>\n",
       "      <td>10.000000</td>\n",
       "      <td>0.000000</td>\n",
       "      <td>0.000000</td>\n",
       "      <td>40.000000</td>\n",
       "    </tr>\n",
       "    <tr>\n",
       "      <th>75%</th>\n",
       "      <td>48.000000</td>\n",
       "      <td>2.369930e+05</td>\n",
       "      <td>12.000000</td>\n",
       "      <td>0.000000</td>\n",
       "      <td>0.000000</td>\n",
       "      <td>45.000000</td>\n",
       "    </tr>\n",
       "    <tr>\n",
       "      <th>max</th>\n",
       "      <td>90.000000</td>\n",
       "      <td>1.484705e+06</td>\n",
       "      <td>16.000000</td>\n",
       "      <td>99999.000000</td>\n",
       "      <td>4356.000000</td>\n",
       "      <td>99.000000</td>\n",
       "    </tr>\n",
       "  </tbody>\n",
       "</table>\n",
       "</div>"
      ],
      "text/plain": [
       "                age        fnlwgt   education-num   capital-gain  \\\n",
       "count  32537.000000  3.253700e+04    32537.000000   32537.000000   \n",
       "mean      38.585549  1.897808e+05       10.081815    1078.443741   \n",
       "std       13.637984  1.055565e+05        2.571633    7387.957424   \n",
       "min       17.000000  1.228500e+04        1.000000       0.000000   \n",
       "25%       28.000000  1.178270e+05        9.000000       0.000000   \n",
       "50%       37.000000  1.783560e+05       10.000000       0.000000   \n",
       "75%       48.000000  2.369930e+05       12.000000       0.000000   \n",
       "max       90.000000  1.484705e+06       16.000000   99999.000000   \n",
       "\n",
       "        capital-loss   hours-per-week  \n",
       "count   32537.000000     32537.000000  \n",
       "mean       87.368227        40.440329  \n",
       "std       403.101833        12.346889  \n",
       "min         0.000000         1.000000  \n",
       "25%         0.000000        40.000000  \n",
       "50%         0.000000        40.000000  \n",
       "75%         0.000000        45.000000  \n",
       "max      4356.000000        99.000000  "
      ]
     },
     "execution_count": 9,
     "metadata": {},
     "output_type": "execute_result"
    }
   ],
   "source": [
    "df.describe()"
   ]
  },
  {
   "cell_type": "code",
   "execution_count": 10,
   "id": "c1ee92b83b7154bb",
   "metadata": {
    "ExecuteTime": {
     "end_time": "2024-04-27T17:09:04.459839Z",
     "start_time": "2024-04-27T17:09:04.456699Z"
    }
   },
   "outputs": [
    {
     "data": {
      "text/plain": [
       "90"
      ]
     },
     "execution_count": 10,
     "metadata": {},
     "output_type": "execute_result"
    }
   ],
   "source": [
    "##  information\n",
    "df['age'].max()"
   ]
  },
  {
   "cell_type": "code",
   "execution_count": 11,
   "id": "7a9be4231916424c",
   "metadata": {
    "ExecuteTime": {
     "end_time": "2024-04-27T17:09:04.467701Z",
     "start_time": "2024-04-27T17:09:04.460861Z"
    }
   },
   "outputs": [
    {
     "data": {
      "text/plain": [
       "age                            90\n",
       " workclass                Private\n",
       " fnlwgt                     51744\n",
       " education                HS-grad\n",
       " education-num                  9\n",
       " marital-status     Never-married\n",
       " occupation         Other-service\n",
       " relationship       Not-in-family\n",
       " race                       Black\n",
       " sex                         Male\n",
       " capital-gain                   0\n",
       " capital-loss                2206\n",
       " hours-per-week                40\n",
       " native-country     United-States\n",
       " income                     <=50K\n",
       "Name: 222, dtype: object"
      ]
     },
     "execution_count": 11,
     "metadata": {},
     "output_type": "execute_result"
    }
   ],
   "source": [
    "## the information about the older person\n",
    "df.iloc[df['age'].idxmax()]"
   ]
  },
  {
   "cell_type": "code",
   "execution_count": 12,
   "id": "fcc298eeb31327c7",
   "metadata": {
    "ExecuteTime": {
     "end_time": "2024-04-27T17:09:04.474997Z",
     "start_time": "2024-04-27T17:09:04.468717Z"
    }
   },
   "outputs": [
    {
     "data": {
      "text/plain": [
       "age                            17\n",
       " workclass                      ?\n",
       " fnlwgt                    304873\n",
       " education                   10th\n",
       " education-num                  6\n",
       " marital-status     Never-married\n",
       " occupation                     ?\n",
       " relationship           Own-child\n",
       " race                       White\n",
       " sex                       Female\n",
       " capital-gain               34095\n",
       " capital-loss                   0\n",
       " hours-per-week                32\n",
       " native-country     United-States\n",
       " income                     <=50K\n",
       "Name: 106, dtype: object"
      ]
     },
     "execution_count": 12,
     "metadata": {},
     "output_type": "execute_result"
    }
   ],
   "source": [
    "df.iloc[df['age'].idxmin()]\n"
   ]
  },
  {
   "cell_type": "code",
   "execution_count": 13,
   "id": "1821b157ead21915",
   "metadata": {
    "ExecuteTime": {
     "end_time": "2024-04-27T17:09:04.484900Z",
     "start_time": "2024-04-27T17:09:04.476526Z"
    }
   },
   "outputs": [
    {
     "data": {
      "text/plain": [
       " workclass\n",
       "Private             22673\n",
       "Self-emp-not-inc     2540\n",
       "Local-gov            2093\n",
       "?                    1836\n",
       "State-gov            1298\n",
       "Self-emp-inc         1116\n",
       "Federal-gov           960\n",
       "Without-pay            14\n",
       "Never-worked            7\n",
       "Name: count, dtype: int64"
      ]
     },
     "execution_count": 13,
     "metadata": {},
     "output_type": "execute_result"
    }
   ],
   "source": [
    "### want to see the work class and the highest work class \n",
    "df[\" workclass\"].value_counts().sort_values(ascending=False)"
   ]
  },
  {
   "cell_type": "code",
   "execution_count": 14,
   "id": "73b8339b8246861b",
   "metadata": {
    "ExecuteTime": {
     "end_time": "2024-04-27T17:09:04.495163Z",
     "start_time": "2024-04-27T17:09:04.485920Z"
    }
   },
   "outputs": [
    {
     "data": {
      "text/plain": [
       " income\n",
       "<=50K    24698\n",
       ">50K      7839\n",
       "Name: count, dtype: int64"
      ]
     },
     "execution_count": 14,
     "metadata": {},
     "output_type": "execute_result"
    }
   ],
   "source": [
    "df[\" income\"].value_counts().sort_values(ascending=False)"
   ]
  },
  {
   "cell_type": "code",
   "execution_count": 15,
   "id": "3271f050b8a768cd",
   "metadata": {
    "ExecuteTime": {
     "end_time": "2024-04-27T17:09:04.785733Z",
     "start_time": "2024-04-27T17:09:04.496184Z"
    }
   },
   "outputs": [
    {
     "data": {
      "image/png": "[encoded data removed]",
      "text/plain": [
       "<Figure size 600x600 with 1 Axes>"
      ]
     },
     "metadata": {},
     "output_type": "display_data"
    }
   ],
   "source": [
    "# income column\n",
    "plt.figure(figsize=(6,6))\n",
    "sns.countplot(x=\" income\", data=df,color='skyblue')\n",
    "plt.title('income Distribution')\n",
    "plt.show()"
   ]
  },
  {
   "cell_type": "code",
   "execution_count": 16,
   "id": "49d229e4488c4299",
   "metadata": {
    "ExecuteTime": {
     "end_time": "2024-04-27T17:09:04.794950Z",
     "start_time": "2024-04-27T17:09:04.787770Z"
    }
   },
   "outputs": [
    {
     "data": {
      "text/plain": [
       " education\n",
       "HS-grad         10494\n",
       "Some-college     7282\n",
       "Bachelors        5353\n",
       "Masters          1722\n",
       "Assoc-voc        1382\n",
       "11th             1175\n",
       "Assoc-acdm       1067\n",
       "10th              933\n",
       "7th-8th           645\n",
       "Prof-school       576\n",
       "9th               514\n",
       "12th              433\n",
       "Doctorate         413\n",
       "5th-6th           332\n",
       "1st-4th           166\n",
       "Preschool          50\n",
       "Name: count, dtype: int64"
      ]
     },
     "execution_count": 16,
     "metadata": {},
     "output_type": "execute_result"
    }
   ],
   "source": [
    "df[\" education\"].value_counts().sort_values(ascending=False)\n"
   ]
  },
  {
   "cell_type": "code",
   "execution_count": 17,
   "id": "86d3af37e3a695fe",
   "metadata": {
    "ExecuteTime": {
     "end_time": "2024-04-27T17:09:05.115269Z",
     "start_time": "2024-04-27T17:09:04.795971Z"
    }
   },
   "outputs": [
    {
     "data": {
      "image/png": "[encoded data removed]",
      "text/plain": [
       "<Figure size 1000x600 with 1 Axes>"
      ]
     },
     "metadata": {},
     "output_type": "display_data"
    }
   ],
   "source": [
    "# income column\n",
    "plt.figure(figsize=(10,6))\n",
    "sns.countplot(x=\" education\", data=df, order=df[' education'].value_counts().index,color='skyblue')\n",
    "plt.title('Education Distribution')\n",
    "plt.xticks(rotation=45)\n",
    "plt.show()"
   ]
  },
  {
   "cell_type": "code",
   "execution_count": 18,
   "id": "b40f86430ceae12c",
   "metadata": {
    "ExecuteTime": {
     "end_time": "2024-04-27T17:09:05.230806Z",
     "start_time": "2024-04-27T17:09:05.117827Z"
    }
   },
   "outputs": [
    {
     "data": {
      "image/png": "[encoded data removed]",
      "text/plain": [
       "<Figure size 800x800 with 1 Axes>"
      ]
     },
     "metadata": {},
     "output_type": "display_data"
    }
   ],
   "source": [
    "## for sex\n",
    "plt.figure(figsize=(8,8))\n",
    "df[' sex'].value_counts().plot.pie(autopct='%1.1f%%', startangle=90)\n",
    "plt.title('SEX Distribution')\n",
    "plt.ylabel('')\n",
    "plt.show()"
   ]
  },
  {
   "cell_type": "code",
   "execution_count": 19,
   "id": "c77b5215dfa71b1a",
   "metadata": {
    "ExecuteTime": {
     "end_time": "2024-04-27T17:09:05.237480Z",
     "start_time": "2024-04-27T17:09:05.231841Z"
    }
   },
   "outputs": [
    {
     "data": {
      "text/plain": [
       "Index(['age', ' workclass', ' fnlwgt', ' education', ' education-num',\n",
       "       ' marital-status', ' occupation', ' relationship', ' race', ' sex',\n",
       "       ' capital-gain', ' capital-loss', ' hours-per-week', ' native-country',\n",
       "       ' income'],\n",
       "      dtype='object')"
      ]
     },
     "execution_count": 19,
     "metadata": {},
     "output_type": "execute_result"
    }
   ],
   "source": [
    "df.columns"
   ]
  },
  {
   "cell_type": "code",
   "execution_count": 20,
   "id": "739faf2ed5fc5595",
   "metadata": {
    "ExecuteTime": {
     "end_time": "2024-04-27T17:09:05.246733Z",
     "start_time": "2024-04-27T17:09:05.239012Z"
    }
   },
   "outputs": [],
   "source": [
    "## new data set\n",
    "df=df[['age',' workclass',' education',' marital-status',' occupation',' hours-per-week',' native-country',' income']]"
   ]
  },
  {
   "cell_type": "code",
   "execution_count": 21,
   "id": "3df7669a86977211",
   "metadata": {
    "ExecuteTime": {
     "end_time": "2024-04-27T17:09:05.258116Z",
     "start_time": "2024-04-27T17:09:05.247759Z"
    }
   },
   "outputs": [
    {
     "data": {
      "text/html": [
       "<div>\n",
       "<style scoped>\n",
       "    .dataframe tbody tr th:only-of-type {\n",
       "        vertical-align: middle;\n",
       "    }\n",
       "\n",
       "    .dataframe tbody tr th {\n",
       "        vertical-align: top;\n",
       "    }\n",
       "\n",
       "    .dataframe thead th {\n",
       "        text-align: right;\n",
       "    }\n",
       "</style>\n",
       "<table border=\"1\" class=\"dataframe\">\n",
       "  <thead>\n",
       "    <tr style=\"text-align: right;\">\n",
       "      <th></th>\n",
       "      <th>age</th>\n",
       "      <th>workclass</th>\n",
       "      <th>education</th>\n",
       "      <th>marital-status</th>\n",
       "      <th>occupation</th>\n",
       "      <th>hours-per-week</th>\n",
       "      <th>native-country</th>\n",
       "      <th>income</th>\n",
       "    </tr>\n",
       "  </thead>\n",
       "  <tbody>\n",
       "    <tr>\n",
       "      <th>0</th>\n",
       "      <td>39</td>\n",
       "      <td>State-gov</td>\n",
       "      <td>Bachelors</td>\n",
       "      <td>Never-married</td>\n",
       "      <td>Adm-clerical</td>\n",
       "      <td>40</td>\n",
       "      <td>United-States</td>\n",
       "      <td>&lt;=50K</td>\n",
       "    </tr>\n",
       "    <tr>\n",
       "      <th>1</th>\n",
       "      <td>50</td>\n",
       "      <td>Self-emp-not-inc</td>\n",
       "      <td>Bachelors</td>\n",
       "      <td>Married-civ-spouse</td>\n",
       "      <td>Exec-managerial</td>\n",
       "      <td>13</td>\n",
       "      <td>United-States</td>\n",
       "      <td>&lt;=50K</td>\n",
       "    </tr>\n",
       "    <tr>\n",
       "      <th>2</th>\n",
       "      <td>38</td>\n",
       "      <td>Private</td>\n",
       "      <td>HS-grad</td>\n",
       "      <td>Divorced</td>\n",
       "      <td>Handlers-cleaners</td>\n",
       "      <td>40</td>\n",
       "      <td>United-States</td>\n",
       "      <td>&lt;=50K</td>\n",
       "    </tr>\n",
       "    <tr>\n",
       "      <th>3</th>\n",
       "      <td>53</td>\n",
       "      <td>Private</td>\n",
       "      <td>11th</td>\n",
       "      <td>Married-civ-spouse</td>\n",
       "      <td>Handlers-cleaners</td>\n",
       "      <td>40</td>\n",
       "      <td>United-States</td>\n",
       "      <td>&lt;=50K</td>\n",
       "    </tr>\n",
       "    <tr>\n",
       "      <th>4</th>\n",
       "      <td>28</td>\n",
       "      <td>Private</td>\n",
       "      <td>Bachelors</td>\n",
       "      <td>Married-civ-spouse</td>\n",
       "      <td>Prof-specialty</td>\n",
       "      <td>40</td>\n",
       "      <td>Cuba</td>\n",
       "      <td>&lt;=50K</td>\n",
       "    </tr>\n",
       "    <tr>\n",
       "      <th>5</th>\n",
       "      <td>37</td>\n",
       "      <td>Private</td>\n",
       "      <td>Masters</td>\n",
       "      <td>Married-civ-spouse</td>\n",
       "      <td>Exec-managerial</td>\n",
       "      <td>40</td>\n",
       "      <td>United-States</td>\n",
       "      <td>&lt;=50K</td>\n",
       "    </tr>\n",
       "    <tr>\n",
       "      <th>6</th>\n",
       "      <td>49</td>\n",
       "      <td>Private</td>\n",
       "      <td>9th</td>\n",
       "      <td>Married-spouse-absent</td>\n",
       "      <td>Other-service</td>\n",
       "      <td>16</td>\n",
       "      <td>Jamaica</td>\n",
       "      <td>&lt;=50K</td>\n",
       "    </tr>\n",
       "    <tr>\n",
       "      <th>7</th>\n",
       "      <td>52</td>\n",
       "      <td>Self-emp-not-inc</td>\n",
       "      <td>HS-grad</td>\n",
       "      <td>Married-civ-spouse</td>\n",
       "      <td>Exec-managerial</td>\n",
       "      <td>45</td>\n",
       "      <td>United-States</td>\n",
       "      <td>&gt;50K</td>\n",
       "    </tr>\n",
       "    <tr>\n",
       "      <th>8</th>\n",
       "      <td>31</td>\n",
       "      <td>Private</td>\n",
       "      <td>Masters</td>\n",
       "      <td>Never-married</td>\n",
       "      <td>Prof-specialty</td>\n",
       "      <td>50</td>\n",
       "      <td>United-States</td>\n",
       "      <td>&gt;50K</td>\n",
       "    </tr>\n",
       "    <tr>\n",
       "      <th>9</th>\n",
       "      <td>42</td>\n",
       "      <td>Private</td>\n",
       "      <td>Bachelors</td>\n",
       "      <td>Married-civ-spouse</td>\n",
       "      <td>Exec-managerial</td>\n",
       "      <td>40</td>\n",
       "      <td>United-States</td>\n",
       "      <td>&gt;50K</td>\n",
       "    </tr>\n",
       "  </tbody>\n",
       "</table>\n",
       "</div>"
      ],
      "text/plain": [
       "   age          workclass   education          marital-status  \\\n",
       "0   39          State-gov   Bachelors           Never-married   \n",
       "1   50   Self-emp-not-inc   Bachelors      Married-civ-spouse   \n",
       "2   38            Private     HS-grad                Divorced   \n",
       "3   53            Private        11th      Married-civ-spouse   \n",
       "4   28            Private   Bachelors      Married-civ-spouse   \n",
       "5   37            Private     Masters      Married-civ-spouse   \n",
       "6   49            Private         9th   Married-spouse-absent   \n",
       "7   52   Self-emp-not-inc     HS-grad      Married-civ-spouse   \n",
       "8   31            Private     Masters           Never-married   \n",
       "9   42            Private   Bachelors      Married-civ-spouse   \n",
       "\n",
       "           occupation   hours-per-week  native-country  income  \n",
       "0        Adm-clerical               40   United-States   <=50K  \n",
       "1     Exec-managerial               13   United-States   <=50K  \n",
       "2   Handlers-cleaners               40   United-States   <=50K  \n",
       "3   Handlers-cleaners               40   United-States   <=50K  \n",
       "4      Prof-specialty               40            Cuba   <=50K  \n",
       "5     Exec-managerial               40   United-States   <=50K  \n",
       "6       Other-service               16         Jamaica   <=50K  \n",
       "7     Exec-managerial               45   United-States    >50K  \n",
       "8      Prof-specialty               50   United-States    >50K  \n",
       "9     Exec-managerial               40   United-States    >50K  "
      ]
     },
     "execution_count": 21,
     "metadata": {},
     "output_type": "execute_result"
    }
   ],
   "source": [
    "df.head(10)\n"
   ]
  },
  {
   "cell_type": "code",
   "execution_count": 22,
   "id": "e596fe1d74c5a0a2",
   "metadata": {
    "ExecuteTime": {
     "end_time": "2024-04-27T17:09:05.340170Z",
     "start_time": "2024-04-27T17:09:05.320521Z"
    }
   },
   "outputs": [
    {
     "data": {
      "text/plain": [
       "7202"
      ]
     },
     "execution_count": 22,
     "metadata": {},
     "output_type": "execute_result"
    }
   ],
   "source": [
    "### lets check for the duplicates again because our columns have changed\n",
    "df.duplicated().sum()"
   ]
  },
  {
   "cell_type": "code",
   "execution_count": 23,
   "id": "9f880622348ef5cc",
   "metadata": {
    "ExecuteTime": {
     "end_time": "2024-04-27T17:09:05.401873Z",
     "start_time": "2024-04-27T17:09:05.382371Z"
    }
   },
   "outputs": [],
   "source": [
    "df.drop_duplicates(inplace=True)"
   ]
  },
  {
   "cell_type": "code",
   "execution_count": 24,
   "id": "e4e230196150db92",
   "metadata": {
    "ExecuteTime": {
     "end_time": "2024-04-27T17:09:05.645006Z",
     "start_time": "2024-04-27T17:09:05.628036Z"
    }
   },
   "outputs": [
    {
     "data": {
      "text/plain": [
       "0"
      ]
     },
     "execution_count": 24,
     "metadata": {},
     "output_type": "execute_result"
    }
   ],
   "source": [
    "df.duplicated().sum()"
   ]
  },
  {
   "cell_type": "code",
   "execution_count": 25,
   "id": "f519e7ea4bc6eaeb",
   "metadata": {
    "ExecuteTime": {
     "end_time": "2024-04-27T17:09:05.698248Z",
     "start_time": "2024-04-27T17:09:05.695166Z"
    }
   },
   "outputs": [],
   "source": [
    "### machine learning process\n",
    "from sklearn.preprocessing import LabelEncoder\n",
    "labelencoder = LabelEncoder()"
   ]
  },
  {
   "cell_type": "code",
   "execution_count": 26,
   "id": "6966d73d43641478",
   "metadata": {
    "ExecuteTime": {
     "end_time": "2024-04-27T17:09:05.819773Z",
     "start_time": "2024-04-27T17:09:05.810400Z"
    }
   },
   "outputs": [
    {
     "data": {
      "text/plain": [
       "Index([4, 6, 2, 0, 7, 5, 1, 8, 3], dtype='int32', name=' workclass')"
      ]
     },
     "execution_count": 26,
     "metadata": {},
     "output_type": "execute_result"
    }
   ],
   "source": [
    "df[\" workclass\"] = labelencoder.fit_transform(df[\" workclass\"])\n",
    "df[\" workclass\"].sort_values(ascending=True).value_counts().index"
   ]
  },
  {
   "cell_type": "code",
   "execution_count": 27,
   "id": "e3c5f7356a11f74c",
   "metadata": {
    "ExecuteTime": {
     "end_time": "2024-04-27T17:09:05.882363Z",
     "start_time": "2024-04-27T17:09:05.858224Z"
    }
   },
   "outputs": [],
   "source": [
    "df[\" marital-status\"] = labelencoder.fit_transform(df[\" marital-status\"])\n",
    "df[\" education\"] = labelencoder.fit_transform(df[\" education\"])\n",
    "df[\" occupation\"] = labelencoder.fit_transform(df[\" occupation\"])\n",
    "df[\" native-country\"] = labelencoder.fit_transform(df[\" native-country\"])\n",
    "df[\" income\"] = labelencoder.fit_transform(df[\" income\"])"
   ]
  },
  {
   "cell_type": "code",
   "execution_count": 28,
   "id": "a707bb8e10832536",
   "metadata": {
    "ExecuteTime": {
     "end_time": "2024-04-27T17:09:05.919865Z",
     "start_time": "2024-04-27T17:09:05.911049Z"
    }
   },
   "outputs": [
    {
     "data": {
      "text/html": [
       "<div>\n",
       "<style scoped>\n",
       "    .dataframe tbody tr th:only-of-type {\n",
       "        vertical-align: middle;\n",
       "    }\n",
       "\n",
       "    .dataframe tbody tr th {\n",
       "        vertical-align: top;\n",
       "    }\n",
       "\n",
       "    .dataframe thead th {\n",
       "        text-align: right;\n",
       "    }\n",
       "</style>\n",
       "<table border=\"1\" class=\"dataframe\">\n",
       "  <thead>\n",
       "    <tr style=\"text-align: right;\">\n",
       "      <th></th>\n",
       "      <th>age</th>\n",
       "      <th>workclass</th>\n",
       "      <th>education</th>\n",
       "      <th>marital-status</th>\n",
       "      <th>occupation</th>\n",
       "      <th>hours-per-week</th>\n",
       "      <th>native-country</th>\n",
       "      <th>income</th>\n",
       "    </tr>\n",
       "  </thead>\n",
       "  <tbody>\n",
       "    <tr>\n",
       "      <th>0</th>\n",
       "      <td>39</td>\n",
       "      <td>7</td>\n",
       "      <td>9</td>\n",
       "      <td>4</td>\n",
       "      <td>1</td>\n",
       "      <td>40</td>\n",
       "      <td>39</td>\n",
       "      <td>0</td>\n",
       "    </tr>\n",
       "    <tr>\n",
       "      <th>1</th>\n",
       "      <td>50</td>\n",
       "      <td>6</td>\n",
       "      <td>9</td>\n",
       "      <td>2</td>\n",
       "      <td>4</td>\n",
       "      <td>13</td>\n",
       "      <td>39</td>\n",
       "      <td>0</td>\n",
       "    </tr>\n",
       "    <tr>\n",
       "      <th>2</th>\n",
       "      <td>38</td>\n",
       "      <td>4</td>\n",
       "      <td>11</td>\n",
       "      <td>0</td>\n",
       "      <td>6</td>\n",
       "      <td>40</td>\n",
       "      <td>39</td>\n",
       "      <td>0</td>\n",
       "    </tr>\n",
       "    <tr>\n",
       "      <th>3</th>\n",
       "      <td>53</td>\n",
       "      <td>4</td>\n",
       "      <td>1</td>\n",
       "      <td>2</td>\n",
       "      <td>6</td>\n",
       "      <td>40</td>\n",
       "      <td>39</td>\n",
       "      <td>0</td>\n",
       "    </tr>\n",
       "    <tr>\n",
       "      <th>4</th>\n",
       "      <td>28</td>\n",
       "      <td>4</td>\n",
       "      <td>9</td>\n",
       "      <td>2</td>\n",
       "      <td>10</td>\n",
       "      <td>40</td>\n",
       "      <td>5</td>\n",
       "      <td>0</td>\n",
       "    </tr>\n",
       "    <tr>\n",
       "      <th>5</th>\n",
       "      <td>37</td>\n",
       "      <td>4</td>\n",
       "      <td>12</td>\n",
       "      <td>2</td>\n",
       "      <td>4</td>\n",
       "      <td>40</td>\n",
       "      <td>39</td>\n",
       "      <td>0</td>\n",
       "    </tr>\n",
       "    <tr>\n",
       "      <th>6</th>\n",
       "      <td>49</td>\n",
       "      <td>4</td>\n",
       "      <td>6</td>\n",
       "      <td>3</td>\n",
       "      <td>8</td>\n",
       "      <td>16</td>\n",
       "      <td>23</td>\n",
       "      <td>0</td>\n",
       "    </tr>\n",
       "    <tr>\n",
       "      <th>7</th>\n",
       "      <td>52</td>\n",
       "      <td>6</td>\n",
       "      <td>11</td>\n",
       "      <td>2</td>\n",
       "      <td>4</td>\n",
       "      <td>45</td>\n",
       "      <td>39</td>\n",
       "      <td>1</td>\n",
       "    </tr>\n",
       "    <tr>\n",
       "      <th>8</th>\n",
       "      <td>31</td>\n",
       "      <td>4</td>\n",
       "      <td>12</td>\n",
       "      <td>4</td>\n",
       "      <td>10</td>\n",
       "      <td>50</td>\n",
       "      <td>39</td>\n",
       "      <td>1</td>\n",
       "    </tr>\n",
       "    <tr>\n",
       "      <th>9</th>\n",
       "      <td>42</td>\n",
       "      <td>4</td>\n",
       "      <td>9</td>\n",
       "      <td>2</td>\n",
       "      <td>4</td>\n",
       "      <td>40</td>\n",
       "      <td>39</td>\n",
       "      <td>1</td>\n",
       "    </tr>\n",
       "  </tbody>\n",
       "</table>\n",
       "</div>"
      ],
      "text/plain": [
       "   age   workclass   education   marital-status   occupation   hours-per-week  \\\n",
       "0   39           7           9                4            1               40   \n",
       "1   50           6           9                2            4               13   \n",
       "2   38           4          11                0            6               40   \n",
       "3   53           4           1                2            6               40   \n",
       "4   28           4           9                2           10               40   \n",
       "5   37           4          12                2            4               40   \n",
       "6   49           4           6                3            8               16   \n",
       "7   52           6          11                2            4               45   \n",
       "8   31           4          12                4           10               50   \n",
       "9   42           4           9                2            4               40   \n",
       "\n",
       "    native-country   income  \n",
       "0               39        0  \n",
       "1               39        0  \n",
       "2               39        0  \n",
       "3               39        0  \n",
       "4                5        0  \n",
       "5               39        0  \n",
       "6               23        0  \n",
       "7               39        1  \n",
       "8               39        1  \n",
       "9               39        1  "
      ]
     },
     "execution_count": 28,
     "metadata": {},
     "output_type": "execute_result"
    }
   ],
   "source": [
    "df.head(10)"
   ]
  },
  {
   "cell_type": "code",
   "execution_count": 29,
   "id": "95c63466bd53e4d6",
   "metadata": {
    "ExecuteTime": {
     "end_time": "2024-04-27T17:09:06.378103Z",
     "start_time": "2024-04-27T17:09:05.940385Z"
    }
   },
   "outputs": [
    {
     "data": {
      "text/plain": [
       "<Axes: >"
      ]
     },
     "execution_count": 29,
     "metadata": {},
     "output_type": "execute_result"
    },
    {
     "data": {
      "image/png": "[encoded data removed]",
      "text/plain": [
       "<Figure size 640x480 with 2 Axes>"
      ]
     },
     "metadata": {},
     "output_type": "display_data"
    }
   ],
   "source": [
    "## \n",
    "sns.heatmap(df.corr(), annot=True)"
   ]
  },
  {
   "cell_type": "code",
   "execution_count": 30,
   "id": "c3a7409e8fbfdfa1",
   "metadata": {
    "ExecuteTime": {
     "end_time": "2024-04-27T17:09:06.460053Z",
     "start_time": "2024-04-27T17:09:06.379127Z"
    }
   },
   "outputs": [
    {
     "data": {
      "text/html": [
       "<div>\n",
       "<style scoped>\n",
       "    .dataframe tbody tr th:only-of-type {\n",
       "        vertical-align: middle;\n",
       "    }\n",
       "\n",
       "    .dataframe tbody tr th {\n",
       "        vertical-align: top;\n",
       "    }\n",
       "\n",
       "    .dataframe thead th {\n",
       "        text-align: right;\n",
       "    }\n",
       "</style>\n",
       "<table border=\"1\" class=\"dataframe\">\n",
       "  <thead>\n",
       "    <tr style=\"text-align: right;\">\n",
       "      <th></th>\n",
       "      <th>variables</th>\n",
       "      <th>VIF</th>\n",
       "    </tr>\n",
       "  </thead>\n",
       "  <tbody>\n",
       "    <tr>\n",
       "      <th>0</th>\n",
       "      <td>age</td>\n",
       "      <td>7.888686</td>\n",
       "    </tr>\n",
       "    <tr>\n",
       "      <th>1</th>\n",
       "      <td>workclass</td>\n",
       "      <td>7.423437</td>\n",
       "    </tr>\n",
       "    <tr>\n",
       "      <th>2</th>\n",
       "      <td>education</td>\n",
       "      <td>6.841769</td>\n",
       "    </tr>\n",
       "    <tr>\n",
       "      <th>3</th>\n",
       "      <td>marital-status</td>\n",
       "      <td>3.285247</td>\n",
       "    </tr>\n",
       "    <tr>\n",
       "      <th>4</th>\n",
       "      <td>occupation</td>\n",
       "      <td>3.714348</td>\n",
       "    </tr>\n",
       "    <tr>\n",
       "      <th>5</th>\n",
       "      <td>hours-per-week</td>\n",
       "      <td>9.251271</td>\n",
       "    </tr>\n",
       "    <tr>\n",
       "      <th>6</th>\n",
       "      <td>native-country</td>\n",
       "      <td>12.889436</td>\n",
       "    </tr>\n",
       "  </tbody>\n",
       "</table>\n",
       "</div>"
      ],
      "text/plain": [
       "         variables        VIF\n",
       "0              age   7.888686\n",
       "1        workclass   7.423437\n",
       "2        education   6.841769\n",
       "3   marital-status   3.285247\n",
       "4       occupation   3.714348\n",
       "5   hours-per-week   9.251271\n",
       "6   native-country  12.889436"
      ]
     },
     "execution_count": 30,
     "metadata": {},
     "output_type": "execute_result"
    }
   ],
   "source": [
    "## \n",
    "### check vif for multi colineraty\n",
    "# Import library for VIF\n",
    "from statsmodels.stats.outliers_influence import variance_inflation_factor\n",
    "\n",
    "def calc_vif(X):\n",
    "\n",
    "    # Calculating VIF\n",
    "    vif = pd.DataFrame()\n",
    "    vif[\"variables\"] = X.columns\n",
    "    vif[\"VIF\"] = [variance_inflation_factor(X.values, i) for i in range(X.shape[1])]\n",
    "\n",
    "    return(vif)\n",
    "X = df.drop(df.columns[7], axis=1)\n",
    "calc_vif(X)### This suggests that native-country might be highly correlated with other variables in the  model."
   ]
  },
  {
   "cell_type": "code",
   "execution_count": 31,
   "id": "dae4b77f5452a164",
   "metadata": {
    "ExecuteTime": {
     "end_time": "2024-04-27T17:09:06.518427Z",
     "start_time": "2024-04-27T17:09:06.461072Z"
    }
   },
   "outputs": [
    {
     "data": {
      "text/html": [
       "<div>\n",
       "<style scoped>\n",
       "    .dataframe tbody tr th:only-of-type {\n",
       "        vertical-align: middle;\n",
       "    }\n",
       "\n",
       "    .dataframe tbody tr th {\n",
       "        vertical-align: top;\n",
       "    }\n",
       "\n",
       "    .dataframe thead th {\n",
       "        text-align: right;\n",
       "    }\n",
       "</style>\n",
       "<table border=\"1\" class=\"dataframe\">\n",
       "  <thead>\n",
       "    <tr style=\"text-align: right;\">\n",
       "      <th></th>\n",
       "      <th>variables</th>\n",
       "      <th>VIF</th>\n",
       "    </tr>\n",
       "  </thead>\n",
       "  <tbody>\n",
       "    <tr>\n",
       "      <th>0</th>\n",
       "      <td>age</td>\n",
       "      <td>6.827445</td>\n",
       "    </tr>\n",
       "    <tr>\n",
       "      <th>1</th>\n",
       "      <td>workclass</td>\n",
       "      <td>7.210412</td>\n",
       "    </tr>\n",
       "    <tr>\n",
       "      <th>2</th>\n",
       "      <td>education</td>\n",
       "      <td>6.370010</td>\n",
       "    </tr>\n",
       "    <tr>\n",
       "      <th>3</th>\n",
       "      <td>marital-status</td>\n",
       "      <td>3.071757</td>\n",
       "    </tr>\n",
       "    <tr>\n",
       "      <th>4</th>\n",
       "      <td>occupation</td>\n",
       "      <td>3.688882</td>\n",
       "    </tr>\n",
       "    <tr>\n",
       "      <th>5</th>\n",
       "      <td>hours-per-week</td>\n",
       "      <td>8.490418</td>\n",
       "    </tr>\n",
       "  </tbody>\n",
       "</table>\n",
       "</div>"
      ],
      "text/plain": [
       "         variables       VIF\n",
       "0              age  6.827445\n",
       "1        workclass  7.210412\n",
       "2        education  6.370010\n",
       "3   marital-status  3.071757\n",
       "4       occupation  3.688882\n",
       "5   hours-per-week  8.490418"
      ]
     },
     "execution_count": 31,
     "metadata": {},
     "output_type": "execute_result"
    }
   ],
   "source": [
    "\n",
    "X = df.drop([' income',' native-country'],axis=1)\n",
    "calc_vif(X)\n",
    "## we will try the both full model and the one without native country"
   ]
  },
  {
   "cell_type": "code",
   "execution_count": 32,
   "id": "5189014e088a0242",
   "metadata": {
    "ExecuteTime": {
     "end_time": "2024-04-27T17:09:06.524555Z",
     "start_time": "2024-04-27T17:09:06.519952Z"
    }
   },
   "outputs": [],
   "source": [
    "## now first lets define x and y then let split the data \n",
    "X=df.drop([' income'],axis=1)\n",
    "Y = df[' income']"
   ]
  },
  {
   "cell_type": "code",
   "execution_count": 33,
   "id": "c4f2cca357858c87",
   "metadata": {
    "ExecuteTime": {
     "end_time": "2024-04-27T17:09:06.529751Z",
     "start_time": "2024-04-27T17:09:06.525572Z"
    }
   },
   "outputs": [],
   "source": [
    "##\n",
    "from sklearn.model_selection import train_test_split\n",
    "from sklearn.linear_model import LogisticRegression\n",
    "from sklearn.metrics import accuracy_score\n",
    "from sklearn.preprocessing import StandardScaler"
   ]
  },
  {
   "cell_type": "code",
   "execution_count": 34,
   "id": "d661b56862df2757",
   "metadata": {
    "ExecuteTime": {
     "end_time": "2024-04-27T17:09:06.557078Z",
     "start_time": "2024-04-27T17:09:06.531331Z"
    }
   },
   "outputs": [
    {
     "name": "stdout",
     "output_type": "stream",
     "text": [
      "Accuracy: 0.7330614392843047\n"
     ]
    }
   ],
   "source": [
    "# Assuming \n",
    "X_train, X_test, y_train, y_test = train_test_split(X, Y, test_size=0.3)\n",
    "scaler=StandardScaler()\n",
    "scaled_x_train=scaler.fit_transform(X_train)\n",
    "scaled_x_test=scaler.fit_transform(X_test)\n",
    "# Create a logistic regression model\n",
    "model = LogisticRegression()\n",
    "\n",
    "# Train the model on the training data\n",
    "model.fit(scaled_x_train, y_train)\n",
    "\n",
    "# Make predictions on the test data\n",
    "y_pred = model.predict(scaled_x_test)\n",
    "\n",
    "# Calculate the accuracy of the model\n",
    "accuracy = accuracy_score(y_test, y_pred)\n",
    "print(\"Accuracy:\", accuracy)"
   ]
  },
  {
   "cell_type": "code",
   "execution_count": 35,
   "id": "5eea0f54729e6faa",
   "metadata": {
    "ExecuteTime": {
     "end_time": "2024-04-27T17:09:06.565858Z",
     "start_time": "2024-04-27T17:09:06.558093Z"
    }
   },
   "outputs": [
    {
     "data": {
      "text/html": [
       "<div>\n",
       "<style scoped>\n",
       "    .dataframe tbody tr th:only-of-type {\n",
       "        vertical-align: middle;\n",
       "    }\n",
       "\n",
       "    .dataframe tbody tr th {\n",
       "        vertical-align: top;\n",
       "    }\n",
       "\n",
       "    .dataframe thead th {\n",
       "        text-align: right;\n",
       "    }\n",
       "</style>\n",
       "<table border=\"1\" class=\"dataframe\">\n",
       "  <thead>\n",
       "    <tr style=\"text-align: right;\">\n",
       "      <th></th>\n",
       "      <th>Predicted No</th>\n",
       "      <th>Predicted Yes</th>\n",
       "    </tr>\n",
       "  </thead>\n",
       "  <tbody>\n",
       "    <tr>\n",
       "      <th>Actual No</th>\n",
       "      <td>5357</td>\n",
       "      <td>260</td>\n",
       "    </tr>\n",
       "    <tr>\n",
       "      <th>Actual Yes</th>\n",
       "      <td>1769</td>\n",
       "      <td>215</td>\n",
       "    </tr>\n",
       "  </tbody>\n",
       "</table>\n",
       "</div>"
      ],
      "text/plain": [
       "            Predicted No  Predicted Yes\n",
       "Actual No           5357            260\n",
       "Actual Yes          1769            215"
      ]
     },
     "execution_count": 35,
     "metadata": {},
     "output_type": "execute_result"
    }
   ],
   "source": [
    "# confusion matrix \n",
    "from sklearn.metrics import confusion_matrix\n",
    "pd.DataFrame(confusion_matrix(y_test,y_pred),columns=['Predicted No','Predicted Yes'],index=['Actual No','Actual Yes'])"
   ]
  },
  {
   "cell_type": "code",
   "execution_count": 36,
   "id": "b00e6afb80b9964c",
   "metadata": {
    "ExecuteTime": {
     "end_time": "2024-04-27T17:09:06.570039Z",
     "start_time": "2024-04-27T17:09:06.566929Z"
    }
   },
   "outputs": [
    {
     "name": "stdout",
     "output_type": "stream",
     "text": [
      "0.7329298776476779\n"
     ]
    }
   ],
   "source": [
    "x=(5354+217)/(5354+299+1731+217)\n",
    "print(x)"
   ]
  },
  {
   "cell_type": "code",
   "execution_count": 37,
   "id": "70dd46d572114a6a",
   "metadata": {
    "ExecuteTime": {
     "end_time": "2024-04-27T17:09:06.609130Z",
     "start_time": "2024-04-27T17:09:06.571057Z"
    }
   },
   "outputs": [],
   "source": [
    "### lets apply knn\n",
    "from sklearn.neighbors import KNeighborsClassifier\n",
    "from sklearn.model_selection import GridSearchCV\n",
    "from sklearn.pipeline import Pipeline"
   ]
  },
  {
   "cell_type": "code",
   "execution_count": 38,
   "id": "2ebb2c8d828212cb",
   "metadata": {
    "ExecuteTime": {
     "end_time": "2024-04-27T17:10:06.656872Z",
     "start_time": "2024-04-27T17:09:06.611175Z"
    }
   },
   "outputs": [
    {
     "name": "stdout",
     "output_type": "stream",
     "text": [
      "Best Parameters: {'knn__n_neighbors': 28}\n",
      "Test Set Accuracy: 0.7934482304959873\n"
     ]
    }
   ],
   "source": [
    "# Create a KNN classifier\n",
    "knn = KNeighborsClassifier()\n",
    "\n",
    "# Define a pipeline with a scaler and KNN classifier\n",
    "pipe = Pipeline(steps=[\n",
    "    ('scaler', StandardScaler()),\n",
    "    ('knn', knn)\n",
    "])\n",
    "\n",
    "# Define the parameter grid for grid search\n",
    "param_grid = {\n",
    "    'knn__n_neighbors': list(range(1, 30))\n",
    "}\n",
    "\n",
    "# Perform grid search with 5-fold cross-validation\n",
    "cv_classifier = GridSearchCV(pipe, param_grid, cv=5, scoring='accuracy')\n",
    "cv_classifier.fit(scaled_x_train, y_train)\n",
    "\n",
    "# Print the best parameters found by grid search\n",
    "print(\"Best Parameters:\", cv_classifier.best_params_)\n",
    "\n",
    "# Evaluate the best model on the test set\n",
    "accuracy = cv_classifier.score(scaled_x_test, y_test)\n",
    "print(\"Test Set Accuracy:\", accuracy)"
   ]
  },
  {
   "cell_type": "code",
   "execution_count": 39,
   "id": "8592ba288884e284",
   "metadata": {
    "ExecuteTime": {
     "end_time": "2024-04-27T17:11:49.836664Z",
     "start_time": "2024-04-27T17:10:06.657382Z"
    }
   },
   "outputs": [
    {
     "name": "stderr",
     "output_type": "stream",
     "text": [
      "C:\\Users\\pc\\Desktop\\pythonProject py charmt\\.venv\\Lib\\site-packages\\sklearn\\model_selection\\_validation.py:547: FitFailedWarning: \n",
      "30 fits failed out of a total of 120.\n",
      "The score on these train-test partitions for these parameters will be set to nan.\n",
      "If these failures are not expected, you can try to debug them by setting error_score='raise'.\n",
      "\n",
      "Below are more details about the failures:\n",
      "--------------------------------------------------------------------------------\n",
      "30 fits failed with the following error:\n",
      "Traceback (most recent call last):\n",
      "  File \"C:\\Users\\pc\\Desktop\\pythonProject py charmt\\.venv\\Lib\\site-packages\\sklearn\\model_selection\\_validation.py\", line 895, in _fit_and_score\n",
      "    estimator.fit(X_train, y_train, **fit_params)\n",
      "  File \"C:\\Users\\pc\\Desktop\\pythonProject py charmt\\.venv\\Lib\\site-packages\\sklearn\\base.py\", line 1474, in wrapper\n",
      "    return fit_method(estimator, *args, **kwargs)\n",
      "           ^^^^^^^^^^^^^^^^^^^^^^^^^^^^^^^^^^^^^^\n",
      "  File \"C:\\Users\\pc\\Desktop\\pythonProject py charmt\\.venv\\Lib\\site-packages\\sklearn\\ensemble\\_forest.py\", line 450, in fit\n",
      "    raise ValueError(\"Out of bag estimation only available if bootstrap=True\")\n",
      "ValueError: Out of bag estimation only available if bootstrap=True\n",
      "\n",
      "  warnings.warn(some_fits_failed_message, FitFailedWarning)\n",
      "C:\\Users\\pc\\Desktop\\pythonProject py charmt\\.venv\\Lib\\site-packages\\sklearn\\model_selection\\_search.py:1051: UserWarning: One or more of the test scores are non-finite: [0.77196337 0.77450098 0.77348557 0.77388023 0.77568492 0.77675617\n",
      " 0.77286537 0.77128638 0.77252707 0.77393678 0.77433148 0.77483931\n",
      "        nan 0.76519666        nan 0.76750852        nan 0.76897447\n",
      "        nan 0.76299729        nan 0.76327912        nan 0.76361755]\n",
      "  warnings.warn(\n"
     ]
    },
    {
     "name": "stdout",
     "output_type": "stream",
     "text": [
      "{'bootstrap': True, 'max_features': 2, 'n_estimators': 128, 'oob_score': False}\n"
     ]
    }
   ],
   "source": [
    "### lets apply random forest \n",
    "from sklearn.ensemble import RandomForestClassifier\n",
    "from sklearn.model_selection import GridSearchCV\n",
    "\n",
    "# Define the base Random Forest model\n",
    "rf_model = RandomForestClassifier()\n",
    "\n",
    "# Define the hyperparameters grid to search over\n",
    "param_grid_rf = {\n",
    "    'n_estimators': [32, 64, 128],\n",
    "    'max_features': [2, 3],\n",
    "    'bootstrap': [True, False],\n",
    "    'oob_score': [True, False]\n",
    "}\n",
    "\n",
    "# Create a GridSearchCV object\n",
    "grid_rfr = GridSearchCV(rf_model, param_grid_rf)\n",
    "\n",
    "# Fit the grid search object to the training data\n",
    "grid_rfr.fit(scaled_x_train, y_train.values.ravel())\n",
    "\n",
    "# Print the best hyperparameters found by the grid search\n",
    "print(grid_rfr.best_params_)\n"
   ]
  },
  {
   "cell_type": "code",
   "execution_count": 40,
   "id": "5c63a71d02ab7ca2",
   "metadata": {
    "ExecuteTime": {
     "end_time": "2024-04-27T17:11:49.984481Z",
     "start_time": "2024-04-27T17:11:49.837685Z"
    }
   },
   "outputs": [
    {
     "name": "stdout",
     "output_type": "stream",
     "text": [
      "Accuracy: 0.7697671359031706\n"
     ]
    }
   ],
   "source": [
    "# Get the best Random Forest model from the grid search\n",
    "best_rf_model = grid_rfr.best_estimator_\n",
    "\n",
    "# Evaluate the best model on the test data to get the accuracy\n",
    "accuracy = best_rf_model.score(scaled_x_test, y_test)\n",
    "print(\"Accuracy:\", accuracy)"
   ]
  },
  {
   "cell_type": "code",
   "execution_count": 41,
   "id": "1dfa93667a8c9556",
   "metadata": {
    "ExecuteTime": {
     "end_time": "2024-04-27T17:15:20.698434Z",
     "start_time": "2024-04-27T17:11:49.985502Z"
    }
   },
   "outputs": [
    {
     "name": "stderr",
     "output_type": "stream",
     "text": [
      "C:\\Users\\pc\\Desktop\\pythonProject py charmt\\.venv\\Lib\\site-packages\\sklearn\\model_selection\\_validation.py:547: FitFailedWarning: \n",
      "15 fits failed out of a total of 60.\n",
      "The score on these train-test partitions for these parameters will be set to nan.\n",
      "If these failures are not expected, you can try to debug them by setting error_score='raise'.\n",
      "\n",
      "Below are more details about the failures:\n",
      "--------------------------------------------------------------------------------\n",
      "15 fits failed with the following error:\n",
      "Traceback (most recent call last):\n",
      "  File \"C:\\Users\\pc\\Desktop\\pythonProject py charmt\\.venv\\Lib\\site-packages\\sklearn\\model_selection\\_validation.py\", line 895, in _fit_and_score\n",
      "    estimator.fit(X_train, y_train, **fit_params)\n",
      "  File \"C:\\Users\\pc\\Desktop\\pythonProject py charmt\\.venv\\Lib\\site-packages\\sklearn\\base.py\", line 1467, in wrapper\n",
      "    estimator._validate_params()\n",
      "  File \"C:\\Users\\pc\\Desktop\\pythonProject py charmt\\.venv\\Lib\\site-packages\\sklearn\\base.py\", line 666, in _validate_params\n",
      "    validate_parameter_constraints(\n",
      "  File \"C:\\Users\\pc\\Desktop\\pythonProject py charmt\\.venv\\Lib\\site-packages\\sklearn\\utils\\_param_validation.py\", line 95, in validate_parameter_constraints\n",
      "    raise InvalidParameterError(\n",
      "sklearn.utils._param_validation.InvalidParameterError: The 'C' parameter of SVC must be a float in the range (0.0, inf). Got 0 instead.\n",
      "\n",
      "  warnings.warn(some_fits_failed_message, FitFailedWarning)\n",
      "C:\\Users\\pc\\Desktop\\pythonProject py charmt\\.venv\\Lib\\site-packages\\sklearn\\model_selection\\_search.py:1051: UserWarning: One or more of the test scores are non-finite: [0.74692681 0.74692681 0.77218909        nan        nan        nan\n",
      " 0.74692681 0.74692681 0.79040268 0.74692681 0.74692681 0.78515851]\n",
      "  warnings.warn(\n"
     ]
    },
    {
     "name": "stdout",
     "output_type": "stream",
     "text": [
      "{'C': 5, 'kernel': 'rbf'}\n",
      "Accuracy: 0.7873963952111565\n"
     ]
    }
   ],
   "source": [
    "###Support Vector Machine (SVM) for classification\n",
    "from sklearn.svm import SVC\n",
    "\n",
    "# Define the SVM model\n",
    "svm_model = SVC()\n",
    "\n",
    "# Define the hyperparameters you want to tune\n",
    "param_grid_svm = {\n",
    "    'C': [0.1, 0, 5, 1],\n",
    "    'kernel': ['linear', 'poly', 'rbf']\n",
    "}\n",
    "\n",
    "# Use GridSearchCV to find the best hyperparameters\n",
    "grid_svm = GridSearchCV(svm_model, param_grid_svm)\n",
    "grid_svm.fit(scaled_x_train, y_train.values.ravel())\n",
    "\n",
    "# Print the best hyperparameters\n",
    "print(grid_svm.best_params_)\n",
    "\n",
    "# Evaluate the best model on the test data\n",
    "best_svm_model = grid_svm.best_estimator_\n",
    "accuracy = best_svm_model.score(scaled_x_test, y_test)\n",
    "print(\"Accuracy:\", accuracy)\n",
    "\n"
   ]
  },
  {
   "cell_type": "code",
   "execution_count": 42,
   "id": "91f0196b84e13884",
   "metadata": {
    "ExecuteTime": {
     "end_time": "2024-04-27T17:15:20.705151Z",
     "start_time": "2024-04-27T17:15:20.699451Z"
    }
   },
   "outputs": [
    {
     "name": "stdout",
     "output_type": "stream",
     "text": [
      "income perdiction of the new index is :below or 50k.\n"
     ]
    }
   ],
   "source": [
    "def perdiction(newentry):\n",
    "    predictions = cv_classifier.predict(newentry.reshape(1, -1))\n",
    "    if predictions == 0:\n",
    "        return \"below or 50k\"\n",
    "    else:\n",
    "        return \"above 50k\"\n",
    "\n",
    "new_index = np.array([40, 3, 10, 2, 6, 40, 30])\n",
    "\n",
    "# Make sure to replace cv_classifier with your actual trained KNN model\n",
    "print(\"income perdiction of the new index is :{}.\".format(perdiction(new_index)))\n"
   ]
  }
 ],
 "metadata": {
  "kernelspec": {
   "display_name": "Python 3 (ipykernel)",
   "language": "python",
   "name": "python3"
  },
  "language_info": {
   "codemirror_mode": {
    "name": "ipython",
    "version": 3
   },
   "file_extension": ".py",
   "mimetype": "text/x-python",
   "name": "python",
   "nbconvert_exporter": "python",
   "pygments_lexer": "ipython3",
   "version": "3.12.2"
  }
 },
 "nbformat": 4,
 "nbformat_minor": 5
}
